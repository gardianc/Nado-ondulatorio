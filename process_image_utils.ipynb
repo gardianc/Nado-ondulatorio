{
 "cells": [
  {
   "cell_type": "code",
   "execution_count": 8,
   "metadata": {},
   "outputs": [],
   "source": [
    "import cv2\n",
    "import numpy as np\n",
    "import pandas as pd\n",
    "import matplotlib.pyplot as plt\n",
    "from scipy.signal import find_peaks\n",
    "\n",
    "def binarize_image(image, threshold, show=False):\n",
    "\n",
    "    # Apply binary thresholding\n",
    "    _, binary_image = cv2.threshold(image, threshold, 255, cv2.THRESH_BINARY)\n",
    "\n",
    "    # Show the original and binarized images\n",
    "    if show:\n",
    "        cv2.imshow('Original Image', image)\n",
    "        cv2.imshow('Binarized Image', binary_image)\n",
    "        cv2.waitKey(0)\n",
    "        cv2.destroyAllWindows()\n",
    "    return binary_image\n",
    "\n",
    "def grayscale_image(image_path, show=False):\n",
    "    image = cv2.imread(image_path, cv2.IMREAD_GRAYSCALE)\n",
    "    if show:\n",
    "        cv2.imshow('Grayscale Image', image)\n",
    "        cv2.waitKey(0)\n",
    "        cv2.destroyAllWindows()\n",
    "    return image\n",
    "\n",
    "def get_canny_edges(binary_image, show = False):\n",
    "    edges = cv2.Canny(binary_image, 100, 200)  # Adjust the threshold values as needed\n",
    "    if show:\n",
    "        cv2.imshow('Detected edges', edges)\n",
    "        cv2.waitKey(0)\n",
    "        cv2.destroyAllWindows()\n",
    "    return edges\n",
    "\n",
    "def rotate_image(image, angle, show = False):    \n",
    "    # Get image dimensions\n",
    "    height, width = image.shape[:2]\n",
    "    \n",
    "    # Calculate the rotation matrix\n",
    "    rotation_matrix = cv2.getRotationMatrix2D((width / 2, height / 2), angle, 1)\n",
    "    \n",
    "    # Apply rotation to the image\n",
    "    rotated_image = cv2.warpAffine(image, rotation_matrix, (width, height))\n",
    "    \n",
    "    if show:\n",
    "        # Show the original and rotated images\n",
    "        cv2.imshow('Original Image', image)\n",
    "        cv2.imshow('Rotated Image', rotated_image)\n",
    "        cv2.waitKey(0)\n",
    "        cv2.destroyAllWindows()\n",
    "    return rotated_image"
   ]
  },
  {
   "cell_type": "code",
   "execution_count": 9,
   "metadata": {},
   "outputs": [],
   "source": [
    "image_path = 'Capilares/C4-diam-5x-1Light.jpg'  # Replace 'example_image.jpg' with the path to your image\n",
    "threshold_value = 200  # Threshold value (0-255)\n",
    "rotation_angle = -3.30  # Rotation angle in degrees\n",
    "calibration = 1.35 # [px/µm]\n",
    "#fimg = get_canny_edges(rotate_image(binarize_image(image_path, threshold_value), rotation_angle))\n",
    "gray_img = rotate_image(grayscale_image(image_path),rotation_angle)"
   ]
  },
  {
   "cell_type": "markdown",
   "metadata": {},
   "source": [
    "### Maquina de hacer chorizos"
   ]
  },
  {
   "cell_type": "code",
   "execution_count": 10,
   "metadata": {},
   "outputs": [],
   "source": [
    "vertical_resolution = 2160 # la resolución vertical de nuestras imagenes - 500\n",
    "rot_arr = -1*np.array([3.85,3.30,3.50,4.60,4.40]) # C1,...,C5\n",
    "calibration = 1.362 # px/µm\n",
    "threshold_value = 127\n",
    "\n",
    "y_cut = 1000\n",
    "yd_array = np.arange(y_cut,vertical_resolution-y_cut) #agarro un corte vertical\n",
    "diam_array = np.empty(yd_array.size, dtype=\"object\") #mi array de diametros va a tener a lo sumo yd_array.size valores\n",
    "\n",
    "# for n,alpha in enumerate(rot_arr):\n",
    "#     img_path = 'Capilares/C'+str(n+1)+'-diam-5x-1Light.jpg'\n",
    "#     #roto la imagen en escala de grises\n",
    "#     gray_img = rotate_image(\n",
    "#                 grayscale_image(img_path),alpha\n",
    "#             )\n",
    "    \n",
    "#     fig, (ax1,ax2) = plt.subplots(1,2)\n",
    "    \n",
    "#     #por cada índice de mi corte vertical\n",
    "#     for i in yd_array:\n",
    "#         y = gray_img[i]\n",
    "#         x = np.arange(y.size)/calibration\n",
    "        \n",
    "#         y_left = y[:y.size//2] #tomamos hasta la mitad no inclusive\n",
    "#         y_right = y[y.size//2:] #tomamos de la mitad\n",
    "#         x_left_peak = find_peaks(y_left, height=120, width=2)[0]\n",
    "#         x_right_peak = find_peaks(y_right, height=120, width=2)[0]\n",
    "        \n",
    "#         if x_left_peak.size!=0 and x_right_peak.size!=0:\n",
    "#             xpeak_array = np.array([x_left_peak[0],\n",
    "#                                     x_right_peak[-1] + y.size//2]) # volvemos a ponerle la mitad del índice que le sacamos\n",
    "#             ypeak_array = np.array([y[xpeak_array[0]],\n",
    "#                                     y[xpeak_array[1]]])\n",
    "#             diam_array[i - y_cut] = (xpeak_array[1] - xpeak_array[0])/calibration #le restamos y_cut al índice para q empiece en 0\n",
    "\n",
    "#         ax1.plot(x,y,color='k')\n",
    "#         ax1.plot(xpeak_array/calibration,ypeak_array,'x',color='r')\n",
    "    \n",
    "#     print(\"Radio de C\"+str(n+1))\n",
    "#     print(np.average(diam_array)/2,np.std(diam_array)/2)\n",
    "    \n",
    "#     ax2.plot(yd_array/calibration, diam_array, 'o', color='tab:blue')\n",
    "    \n",
    "#     ax2.set_ylabel('diametro [µm]')\n",
    "#     ax2.set_xlabel('distancia-y [µm]')            \n",
    "#     ax1.set_xlabel('distancia-x [µm]')\n",
    "#     ax1.set_ylabel('grayscale (0-255)')\n",
    "#     fig.suptitle('C'+str(n+1))\n",
    "#     fig.tight_layout()"
   ]
  },
  {
   "cell_type": "markdown",
   "metadata": {},
   "source": [
    "## Filamentos"
   ]
  },
  {
   "cell_type": "code",
   "execution_count": 11,
   "metadata": {},
   "outputs": [],
   "source": [
    "image_path = 'Filamentos/DSK_001_002_R'\n",
    "grayscale_image(image_path)"
   ]
  }
 ],
 "metadata": {
  "kernelspec": {
   "display_name": ".venv",
   "language": "python",
   "name": "python3"
  },
  "language_info": {
   "codemirror_mode": {
    "name": "ipython",
    "version": 3
   },
   "file_extension": ".py",
   "mimetype": "text/x-python",
   "name": "python",
   "nbconvert_exporter": "python",
   "pygments_lexer": "ipython3",
   "version": "3.12.1"
  }
 },
 "nbformat": 4,
 "nbformat_minor": 2
}
