{
 "cells": [
  {
   "cell_type": "code",
   "execution_count": 2,
   "metadata": {},
   "outputs": [],
   "source": [
    "import numpy as np\n",
    "import matplotlib.pyplot as plt\n",
    "import cv2 as cv\n",
    "from skimage.morphology import remove_small_holes, area_opening, skeletonize\n",
    "import pandas as pd\n",
    "from matplotlib import rcParams\n",
    "\n",
    "\n",
    "THRESHOLD = 120\n",
    "MAX_PIXEL_VALUE = 255\n",
    "\n",
    "COLOR = 'black'\n",
    "plt.style.use(\"default\")\n",
    "rcParams[\"font.family\"] = \"serif\"\n",
    "rcParams[\"mathtext.fontset\"] = \"cm\"\n",
    "rcParams['figure.figsize'] = (28, 18)\n",
    "rcParams['figure.titlesize'] = 20\n",
    "rcParams['figure.dpi'] = 50\n",
    "rcParams['axes.grid'] = True\n",
    "rcParams['axes.facecolor'] = 'lightgray'\n",
    "rcParams['legend.fontsize'] = 25\n",
    "rcParams['axes.titlesize'] = 60\n",
    "rcParams['axes.labelsize'] = 50\n",
    "rcParams['ytick.labelsize'] = 20\n",
    "rcParams['xtick.labelsize'] = 20\n",
    "rcParams['text.color'] = COLOR\n",
    "rcParams['text.color'] = COLOR\n",
    "rcParams['axes.labelcolor'] = COLOR\n",
    "rcParams['xtick.color'] = COLOR\n",
    "rcParams['ytick.color'] = COLOR\n",
    "rcParams['grid.color'] = COLOR\n",
    "rcParams['text.latex.preamble'] = \"\\n\".join([\n",
    "    r'\\usepackage[version=3]{mhchem}'\n",
    "])"
   ]
  },
  {
   "cell_type": "markdown",
   "metadata": {},
   "source": [
    "### funciones que se usan"
   ]
  },
  {
   "cell_type": "code",
   "execution_count": 3,
   "metadata": {},
   "outputs": [],
   "source": [
    "def cortar(frame, limites, PRUEBA=False, nombre='CORTE'):\n",
    "    # lee en gris\n",
    "    min_x, max_x, min_y, max_y = limites\n",
    "    corte = frame[min_y:max_y, min_x:max_x] # resolver lo del corte binarizadp\n",
    "    if PRUEBA:\n",
    "        cv.imwrite(f'{nombre}.jpg', corte)\n",
    "    return corte\n",
    "\n",
    "def gris(frame, PRUEBA=False, nombre='GRAYSCALE'):\n",
    "    im_gray = cv.cvtColor(frame, cv.COLOR_BGR2GRAY)\n",
    "    if PRUEBA:\n",
    "        cv.imwrite(f'{nombre}.jpg', im_gray)\n",
    "    return im_gray\n",
    "\n",
    "def binarize(frame, th=THRESHOLD, PRUEBA=False, nombre='BINARY'):\n",
    "    _, im_binary = cv.threshold(frame, th, MAX_PIXEL_VALUE, cv.THRESH_BINARY)\n",
    "    if PRUEBA:\n",
    "        cv.imwrite(f'{nombre}.jpg', im_binary)\n",
    "    return im_binary\n",
    "\n",
    "def find(frame):\n",
    "    y, x = np.where(frame==0)\n",
    "    x_head = np.min(x)\n",
    "    filas = np.unique(y)\n",
    "    y_head = int(np.mean(filas))\n",
    "    return x, y, x_head, y_head\n",
    "\n",
    "def tracker(vs, limites, SHOW=False):\n",
    "        # Crea las listas vacias que van a ser nuestras mediciones\n",
    "        pos_x = []\n",
    "        pos_y = []\n",
    "        \n",
    "        frame_count = vs.get(7)\n",
    "        tiempo = [f for f in range(1, int(frame_count))]\n",
    "        i=0\n",
    "        while(vs.isOpened()):\n",
    "            i+=1\n",
    "            ret, frame = vs.read()\n",
    "\n",
    "            if ret:\n",
    "                frame = cortar(frame, limites)\n",
    "                frame_bn = binarize(gris(frame))\n",
    "                mask = frame_bn>0\n",
    "                frame_bn = remove_small_holes(mask,10)*255\n",
    "                try:\n",
    "                    x, y, x_head, y_head = find(frame_bn)\n",
    "                    pos_x.append(x_head)\n",
    "                    pos_y.append(y_head)\n",
    "                    if SHOW:\n",
    "                        frame[y, x] = [0, 255, 0]\n",
    "                        frame = cv.circle(frame, (x_head, y_head), radius=1, color=(0, 0, 255), thickness=-1)\n",
    "                        cv.imshow('frame', frame)\n",
    "                except:\n",
    "                    break\n",
    "                if cv.waitKey(1) & 0xFF == ord('q'):\n",
    "                    break\n",
    "            else:\n",
    "                break\n",
    "        cv.destroyAllWindows()\n",
    "        # video.release()\n",
    "        return np.array(tiempo), np.array(pos_x), np.array(pos_y)\n",
    "\n",
    "def guillotina(frame, PRUEBA=False, nombre='DECAPITADO'):\n",
    "    y, x = np.where(frame<=130)\n",
    "    frame[y, x] = np.max(frame)\n",
    "    frame -= np.min(frame)\n",
    "    frame = (frame/np.max(frame))*255\n",
    "    if PRUEBA:\n",
    "        cv.imwrite(f'{nombre}.jpg', frame)\n",
    "    return frame\n",
    "\n",
    "def binarize_TAIL(frame, PRUEBA=False, nombre='BINARY_TAIL'):\n",
    "    _, im_binary = cv.threshold(frame, THRESHOLD, MAX_PIXEL_VALUE, cv.THRESH_BINARY)\n",
    "    arr = im_binary > 0\n",
    "    im_binary = remove_small_holes(arr)*255\n",
    "    im_binary = area_opening(im_binary, 200)\n",
    "    if PRUEBA:\n",
    "        cv.imwrite(f'{nombre}.jpg', im_binary)\n",
    "    return im_binary\n",
    "\n",
    "def skeleton(frame, PRUEBA=False, nombre='ESQUELETO'):\n",
    "    arr = frame < 255\n",
    "    sk = skeletonize(arr)*255\n",
    "    y, x = np.where(sk!=0)\n",
    "    if PRUEBA:\n",
    "        cv.imwrite(f'{nombre}.jpg', sk)\n",
    "    return x, y\n",
    "\n",
    "def track_TAIL(vs, limites, SHOW=False):\n",
    "        # Crea las listas vacias que van a ser nuestras mediciones\n",
    "        frame_count = vs.get(7)\n",
    "        tiempo = [f for f in range(1, int(frame_count))]\n",
    "        while(vs.isOpened()):\n",
    "            ret, frame = vs.read()\n",
    "            if ret:\n",
    "                frame = cortar(frame, limites)\n",
    "                frame_bn = binarize_TAIL(guillotina(gris(frame)))\n",
    "                try:\n",
    "                    x, y = skeleton(frame_bn)\n",
    "                    frame[y, x] = [0, 0, 255]\n",
    "                    cv.imshow('frame', frame)\n",
    "                except:\n",
    "                    break\n",
    "                if cv.waitKey(1) & 0xFF == ord('q'):\n",
    "                    break\n",
    "            else:\n",
    "                break\n",
    "        cv.destroyAllWindows()\n",
    "        # video.release()\n",
    "                \n",
    "        return np.array(tiempo)"
   ]
  },
  {
   "cell_type": "markdown",
   "metadata": {},
   "source": [
    "### prueba de una sola imagen"
   ]
  },
  {
   "cell_type": "code",
   "execution_count": 97,
   "metadata": {},
   "outputs": [],
   "source": [
    "im = cv.imread('Camo Snapshot 2024-05-17 - 10-34-47.jpg')\n",
    "\n",
    "im_cut = cortar(im, limites=[248, 932, 193, 519], PRUEBA=True)\n",
    "im_gray = gris(im_cut, PRUEBA=True)\n",
    "\n",
    "im_binary = binarize(im_gray, PRUEBA=True, nombre='BINARY1')"
   ]
  },
  {
   "cell_type": "code",
   "execution_count": 4,
   "metadata": {},
   "outputs": [
    {
     "ename": "NameError",
     "evalue": "name 'im_binary' is not defined",
     "output_type": "error",
     "traceback": [
      "\u001b[0;31m---------------------------------------------------------------------------\u001b[0m",
      "\u001b[0;31mNameError\u001b[0m                                 Traceback (most recent call last)",
      "Cell \u001b[0;32mIn[4], line 1\u001b[0m\n\u001b[0;32m----> 1\u001b[0m y, x \u001b[38;5;241m=\u001b[39m np\u001b[38;5;241m.\u001b[39mwhere(\u001b[43mim_binary\u001b[49m\u001b[38;5;241m==\u001b[39m\u001b[38;5;241m0\u001b[39m)\n\u001b[1;32m      2\u001b[0m x_head \u001b[38;5;241m=\u001b[39m np\u001b[38;5;241m.\u001b[39mmax(x)\n\u001b[1;32m      3\u001b[0m filas_2 \u001b[38;5;241m=\u001b[39m np\u001b[38;5;241m.\u001b[39munique(y)\n",
      "\u001b[0;31mNameError\u001b[0m: name 'im_binary' is not defined"
     ]
    }
   ],
   "source": [
    "y, x = np.where(im_binary==0)\n",
    "x_head = np.max(x)\n",
    "filas_2 = np.unique(y)\n",
    "y_head = int(np.mean(filas_2))"
   ]
  },
  {
   "cell_type": "code",
   "execution_count": 21,
   "metadata": {},
   "outputs": [
    {
     "data": {
      "text/plain": [
       "221"
      ]
     },
     "execution_count": 21,
     "metadata": {},
     "output_type": "execute_result"
    },
    {
     "data": {
      "image/png": "[encoded data removed]",
      "text/plain": [
       "<Figure size 640x480 with 1 Axes>"
      ]
     },
     "metadata": {},
     "output_type": "display_data"
    }
   ],
   "source": [
    "fig, ax = plt.subplots()\n",
    "ax.set_xlim(0, len(im_binary[0]))\n",
    "ax.set_ylim(0, len(im_binary))\n",
    "\n",
    "ax.plot(x, y, color = 'k', marker='.', markersize=0.5)\n",
    "ax.plot(x_head, y_head, color = 'r', marker='.', markersize=1, label='extremo de la cabeza')\n",
    "x_head"
   ]
  },
  {
   "cell_type": "markdown",
   "metadata": {},
   "source": [
    "### pruebas de un solo video"
   ]
  },
  {
   "cell_type": "code",
   "execution_count": 7,
   "metadata": {},
   "outputs": [],
   "source": [
    "# abro y analizo video\n",
    "video = cv.VideoCapture('videos\\\\ECO20-45mm-PECERA1\\\\ECO20-45mm-2,04Vpp-3Hz.mp4')\n",
    "#lim = [319, 1009, 205, 505]\n",
    "lim = [319, 950, 250, 505] \n",
    "t,x,y = tracker(video, lim, SHOW=True)"
   ]
  },
  {
   "cell_type": "code",
   "execution_count": 6,
   "metadata": {},
   "outputs": [
    {
     "data": {
      "text/plain": [
       "<matplotlib.legend.Legend at 0x75cafe993b50>"
      ]
     },
     "execution_count": 6,
     "metadata": {},
     "output_type": "execute_result"
    },
    {
     "data": {
      "image/png": "[encoded data removed]",
      "text/plain": [
       "<Figure size 500x200 with 2 Axes>"
      ]
     },
     "metadata": {},
     "output_type": "display_data"
    }
   ],
   "source": [
    "fig, [ax1, ax2] = plt.subplots(1, 2, figsize = (10, 4))\n",
    "ax1.plot(x, y, '.', markersize=0.5)\n",
    "\n",
    "ax2.plot(t[:len(x)], x, '.', markersize=0.5,label='x')\n",
    "ax2.plot(t[:len(x)], y, '.', markersize=0.5, label='y')\n",
    "ax2.legend()"
   ]
  },
  {
   "cell_type": "code",
   "execution_count": 90,
   "metadata": {},
   "outputs": [],
   "source": [
    "im = cv.imread('Camo Snapshot 2024-05-17 12-04-24 - 10Hz.jpg')\n",
    "im_cut = cortar(im, limites=lim)\n",
    "im_gray = gris(im_cut)\n",
    "im_decap = guillotina(im_gray, PRUEBA=True)\n",
    "im_binary = binarize_TAIL(im_decap, P496mVppRUEBA=True)\n",
    "im_sk = skeleton(im_binary, PRUEBA=True)"
   ]
  },
  {
   "cell_type": "code",
   "execution_count": 13,
   "metadata": {},
   "outputs": [],
   "source": [
    "video = cv.VideoCapture('videos/ECO20-45mm-1,00Vpp-2Hz.mp4')\n",
    "lim = [319, 1009, 205, 505]\n",
    "t = track_TAIL(video, lim, SHOW=True)"
   ]
  },
  {
   "cell_type": "code",
   "execution_count": 9,
   "metadata": {},
   "outputs": [],
   "source": [
    "vs = cv.VideoCapture(f'videos\\\\FCD\\\\P1\\\\P1-2V-9Hz-cut.mp4')\n",
    "lim=[110, 600, 0, -1]\n",
    "t,x,y = tracker(vs, lim, SHOW=True)"
   ]
  },
  {
   "cell_type": "markdown",
   "metadata": {},
   "source": [
    "### Maquina de hacer chorizos"
   ]
  },
  {
   "cell_type": "code",
   "execution_count": 7,
   "metadata": {},
   "outputs": [],
   "source": [
    "import os\n",
    "\n",
    "for filename in os.listdir('videos'):\n",
    "    spl = filename.split('.')[0].split('-')\n",
    "    v,f = spl[2],spl[3]\n",
    "    video = cv.VideoCapture('videos/'+filename)\n",
    "    lim = [319, 950, 250, 505] #[xleft, xright, ytop, ydown]\n",
    "    t,x,y = tracker(video, lim, SHOW=False)\n",
    "\n",
    "    # Guardo los datos\n",
    "    pd.DataFrame().assign(t=t[:len(x)]).assign(x=x).assign(y=y).to_csv(f'ECO20-45mm/{v}-{f}.csv')\n",
    "    \n",
    "    # # Graficos de debuggeo\n",
    "    # fig, [ax1, ax2] = plt.subplots(1, 2)\n",
    "\n",
    "    # fig.suptitle(f'{v} ; {f}')\n",
    "    \n",
    "    # ax1.plot(x, y, '.')\n",
    "    # ax2.plot(t[:len(x)], x, '.',label='x')\n",
    "    # ax2.plot(t[:len(x)], y, '.', label='y')\n",
    "    # ax2.legend()"
   ]
  }
 ],
 "metadata": {
  "kernelspec": {
   "display_name": "Labo6y7_env",
   "language": "python",
   "name": "python3"
  },
  "language_info": {
   "codemirror_mode": {
    "name": "ipython",
    "version": 3
   },
   "file_extension": ".py",
   "mimetype": "text/x-python",
   "name": "python",
   "nbconvert_exporter": "python",
   "pygments_lexer": "ipython3",
   "version": "3.12.1"
  }
 },
 "nbformat": 4,
 "nbformat_minor": 2
}
