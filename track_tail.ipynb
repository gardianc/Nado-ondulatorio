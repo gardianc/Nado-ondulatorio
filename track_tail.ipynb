{
 "cells": [
  {
   "cell_type": "code",
   "execution_count": 82,
   "metadata": {},
   "outputs": [],
   "source": [
    "import numpy as np\n",
    "import matplotlib.pyplot as plt\n",
    "import cv2 as cv\n",
    "from skimage.morphology import remove_small_holes, area_opening, skeletonize, area_closing, binary_erosion, binary_dilation\n",
    "import pandas as pd\n",
    "from matplotlib import rcParams\n",
    "from skimage.measure import find_contours\n"
   ]
  },
  {
   "cell_type": "code",
   "execution_count": 2,
   "metadata": {},
   "outputs": [],
   "source": [
    "COLOR = 'black'\n",
    "plt.style.use(\"default\")\n",
    "rcParams[\"font.family\"] = \"serif\"\n",
    "rcParams[\"mathtext.fontset\"] = \"cm\"\n",
    "rcParams['figure.figsize'] = (28, 18)\n",
    "rcParams['figure.titlesize'] = 20\n",
    "rcParams['figure.dpi'] = 50\n",
    "rcParams['axes.grid'] = True\n",
    "rcParams['axes.facecolor'] = 'lightgray'\n",
    "rcParams['legend.fontsize'] = 25\n",
    "rcParams['axes.titlesize'] = 60\n",
    "rcParams['axes.labelsize'] = 50\n",
    "rcParams['ytick.labelsize'] = 20\n",
    "rcParams['xtick.labelsize'] = 20\n",
    "rcParams['text.color'] = COLOR\n",
    "rcParams['text.color'] = COLOR\n",
    "rcParams['axes.labelcolor'] = COLOR\n",
    "rcParams['xtick.color'] = COLOR\n",
    "rcParams['ytick.color'] = COLOR\n",
    "rcParams['grid.color'] = COLOR\n",
    "rcParams['text.latex.preamble'] = \"\\n\".join([\n",
    "    r'\\usepackage[version=3]{mhchem}'\n",
    "])"
   ]
  },
  {
   "cell_type": "code",
   "execution_count": 3,
   "metadata": {},
   "outputs": [],
   "source": [
    "THRESHOLD = 120\n",
    "MAX_PIXEL_VALUE = 255"
   ]
  },
  {
   "cell_type": "markdown",
   "metadata": {},
   "source": [
    "### funciones"
   ]
  },
  {
   "cell_type": "code",
   "execution_count": 100,
   "metadata": {},
   "outputs": [],
   "source": [
    "\n",
    "def cortar(frame, limites, PRUEBA=False, nombre='CORTE'):\n",
    "    min_x, max_x, min_y, max_y = limites\n",
    "    corte = frame[min_y:max_y, min_x:max_x]\n",
    "    if PRUEBA:\n",
    "        cv.imwrite(f'Imaging tests\\\\{nombre}.jpg', corte)\n",
    "    return corte\n",
    "\n",
    "def gris(frame, PRUEBA=False, nombre='GRAYSCALE'):\n",
    "    im_gray = cv.cvtColor(frame, cv.COLOR_BGR2GRAY)\n",
    "    if PRUEBA:\n",
    "        cv.imwrite(f'Imaging tests\\\\{nombre}.jpg', im_gray)\n",
    "    return im_gray\n",
    "\n",
    "def binarize(frame, th=THRESHOLD, PRUEBA=False, nombre='BINARY'):\n",
    "    _, im_binary = cv.threshold(frame, th, MAX_PIXEL_VALUE, cv.THRESH_BINARY)\n",
    "    if PRUEBA:\n",
    "        cv.imwrite(f'Imaging tests\\\\{nombre}.jpg', im_binary)\n",
    "    return im_binary\n",
    "\n",
    "def guillotina(frame, PRUEBA=False, nombre='DECAPITADO'):\n",
    "    y, x = np.where(frame<=130)\n",
    "    frame[y, x] = np.mean(frame)\n",
    "    frame -= np.min(frame)\n",
    "    frame = (frame/np.max(frame))*255\n",
    "    \n",
    "    if PRUEBA:\n",
    "        cv.imwrite(f'Imaging tests\\\\{nombre}.jpg', frame)\n",
    "    return frame\n",
    "\n",
    "def binarize_TAIL(frame, PRUEBA=False, nombre='BINARY_TAIL'):\n",
    "    _, im_binary = cv.threshold(frame, THRESHOLD-15, MAX_PIXEL_VALUE, cv.THRESH_BINARY)\n",
    "    arr = im_binary > 0\n",
    "    im_binary = remove_small_holes(arr)*255\n",
    "\n",
    "    # ESTO DE ACÁ COMENTADO ES LO QUE ACELERABA EL AREA OPENING:\n",
    "    # no es el código más limpio del mundo pero funca, ahora no hacemos pero no lo borro ni corrijo todavía pq estoy trabajando cosas con eso\n",
    "    y, x = np.where(im_binary==0)\n",
    "    im_bin = im_binary[min(y)-1:max(y)+2, min(x)-1:max(x)+2]\n",
    "    im_bin = area_opening(im_bin, 200)\n",
    "    im_binary[min(y)-1:max(y)+2, min(x)-1:max(x)+2] = im_bin\n",
    "\n",
    "    if PRUEBA:\n",
    "        cv.imwrite(f'Imaging tests\\\\{nombre}.jpg', im_binary)\n",
    "    return im_binary\n",
    "\n",
    "def skeleton(frame, PRUEBA=False, nombre='ESQUELETO'):\n",
    "    arr = frame < 255\n",
    "    sk = skeletonize(arr)*255\n",
    "    _, x = np.where(sk!=0)\n",
    "\n",
    "    # esto cierra los globitos, es lo que faltaba antes:\n",
    "    for c in np.unique(x):\n",
    "        r = np.where(sk[:, c]!=0)[0]\n",
    "        for p in r:\n",
    "            sk[p, c] = 0\n",
    "        sk[int(np.mean(r)), c] = 255\n",
    "    y, x = np.where(sk!=0)\n",
    "\n",
    "    if PRUEBA:\n",
    "        cv.imwrite(f'Imaging tests\\\\{nombre}.jpg', sk)\n",
    "    return sk, x, y\n",
    "\n",
    "def track_TAIL(vs, limites, SHOW=False):\n",
    "        # coordenadas de la cola en cada frame\n",
    "        tail_x = np.array([])\n",
    "        tail_y = np.array([])        \n",
    "        frame_count = vs.get(7)\n",
    "        tiempo = [f for f in range(1, int(frame_count))]\n",
    "        while(vs.isOpened()):\n",
    "            ret, frame = vs.read()\n",
    "            if ret:\n",
    "                frame = cortar(frame, limites)\n",
    "\n",
    "                # para que sólo tome cuando la cola está completa:\n",
    "                im_izq = frame[:, 0:1]\n",
    "                im_izq = cv.bitwise_not(binarize(gris(im_izq), th=170))\n",
    "                im_der = frame[:, -2:-1]\n",
    "                im_der = cv.bitwise_not(binarize(gris(im_der), th=170))\n",
    "                if np.sum(im_izq) == 0:\n",
    "                    if np.sum(im_der) == 0:\n",
    "                        frame_bn = binarize_TAIL(guillotina(gris(frame)))\n",
    "                        _, x, y = skeleton(frame_bn)\n",
    "                        tail_x = np.append(tail_x, x)\n",
    "                        tail_y = np.append(tail_y, y)\n",
    "                        if SHOW:\n",
    "                            frame[y, x] = [0, 0, 255]\n",
    "                            cv.imshow('frame', frame)\n",
    "\n",
    "                        if cv.waitKey(1) & 0xFF == ord('q'):\n",
    "                            break\n",
    "                else:\n",
    "                    break\n",
    "            else:\n",
    "                print('Video no abierto')\n",
    "                break\n",
    "        cv.destroyAllWindows()\n",
    "\n",
    "        return np.array(tiempo), tail_x, tail_y"
   ]
  },
  {
   "cell_type": "code",
   "execution_count": 8,
   "metadata": {},
   "outputs": [],
   "source": [
    "# lim = [319, 950, 250, 505]\n",
    "lim = [319, 1000, 250, 505]"
   ]
  },
  {
   "cell_type": "code",
   "execution_count": 27,
   "metadata": {},
   "outputs": [],
   "source": [
    "im = cv.imread('Capturas\\\\Camo Snapshot 2024-05-17 12-04-24 - 10Hz.jpg')\n",
    "im = cortar(im, lim)\n"
   ]
  },
  {
   "cell_type": "code",
   "execution_count": 101,
   "metadata": {},
   "outputs": [
    {
     "name": "stdout",
     "output_type": "stream",
     "text": [
      "True\n"
     ]
    }
   ],
   "source": [
    "video = cv.VideoCapture('ECO20-45mm-PECERA1\\\\ECO20-45mm-1,49Vpp-8Hz.mp4')\n",
    "print(video.isOpened())\n",
    "t = track_TAIL(video, lim, SHOW=True)\n",
    "\n",
    "# con el blur y el area opening a veces se pierde el final de alguna cola (500mVpp, 3Hz x ej)\n",
    "# jugar con el orden de los filtros capaz"
   ]
  },
  {
   "cell_type": "code",
   "execution_count": 94,
   "metadata": {},
   "outputs": [
    {
     "ename": "IndexError",
     "evalue": "list index out of range",
     "output_type": "error",
     "traceback": [
      "\u001b[1;31m---------------------------------------------------------------------------\u001b[0m",
      "\u001b[1;31mIndexError\u001b[0m                                Traceback (most recent call last)",
      "Cell \u001b[1;32mIn[94], line 5\u001b[0m\n\u001b[0;32m      3\u001b[0m \u001b[38;5;28;01mfor\u001b[39;00m filename \u001b[38;5;129;01min\u001b[39;00m os\u001b[38;5;241m.\u001b[39mlistdir(\u001b[38;5;124m'\u001b[39m\u001b[38;5;124mECO20-45mm-PECERA1\u001b[39m\u001b[38;5;124m'\u001b[39m):\n\u001b[0;32m      4\u001b[0m     spl \u001b[38;5;241m=\u001b[39m filename\u001b[38;5;241m.\u001b[39msplit(\u001b[38;5;124m'\u001b[39m\u001b[38;5;124m.\u001b[39m\u001b[38;5;124m'\u001b[39m)[\u001b[38;5;241m0\u001b[39m]\u001b[38;5;241m.\u001b[39msplit(\u001b[38;5;124m'\u001b[39m\u001b[38;5;124m-\u001b[39m\u001b[38;5;124m'\u001b[39m)\n\u001b[1;32m----> 5\u001b[0m     v,f \u001b[38;5;241m=\u001b[39m spl[\u001b[38;5;241m2\u001b[39m],\u001b[43mspl\u001b[49m\u001b[43m[\u001b[49m\u001b[38;5;241;43m3\u001b[39;49m\u001b[43m]\u001b[49m\n\u001b[0;32m      6\u001b[0m     video \u001b[38;5;241m=\u001b[39m cv\u001b[38;5;241m.\u001b[39mVideoCapture(\u001b[38;5;124m'\u001b[39m\u001b[38;5;124mECO20-45mm-PECERA1/\u001b[39m\u001b[38;5;124m'\u001b[39m\u001b[38;5;241m+\u001b[39mfilename)\n\u001b[0;32m      7\u001b[0m     lim \u001b[38;5;241m=\u001b[39m [\u001b[38;5;241m319\u001b[39m, \u001b[38;5;241m950\u001b[39m, \u001b[38;5;241m250\u001b[39m, \u001b[38;5;241m505\u001b[39m] \u001b[38;5;66;03m#[xleft, xright, ytop, ydown]\u001b[39;00m\n",
      "\u001b[1;31mIndexError\u001b[0m: list index out of range"
     ]
    }
   ],
   "source": [
    "import os\n",
    "\n",
    "for filename in os.listdir('ECO20-45mm-PECERA1'):\n",
    "    spl = filename.split('.')[0].split('-')\n",
    "    v,f = spl[2],spl[3]\n",
    "    video = cv.VideoCapture('ECO20-45mm-PECERA1/'+filename)\n",
    "    lim = [319, 950, 250, 505] #[xleft, xright, ytop, ydown]\n",
    "    t,x,y = track_TAIL(video, lim, SHOW=True)"
   ]
  }
 ],
 "metadata": {
  "kernelspec": {
   "display_name": "Labo6y7_env",
   "language": "python",
   "name": "python3"
  },
  "language_info": {
   "codemirror_mode": {
    "name": "ipython",
    "version": 3
   },
   "file_extension": ".py",
   "mimetype": "text/x-python",
   "name": "python",
   "nbconvert_exporter": "python",
   "pygments_lexer": "ipython3",
   "version": "3.12.1"
  }
 },
 "nbformat": 4,
 "nbformat_minor": 2
}
