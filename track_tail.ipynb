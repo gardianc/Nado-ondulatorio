{
 "cells": [
  {
   "cell_type": "code",
   "execution_count": 93,
   "metadata": {},
   "outputs": [],
   "source": [
    "import numpy as np\n",
    "import matplotlib.pyplot as plt\n",
    "import cv2 as cv\n",
    "from skimage.morphology import remove_small_holes, area_opening, skeletonize\n",
    "import pandas as pd\n",
    "from matplotlib import rcParams\n",
    "from skimage.measure import find_contours\n"
   ]
  },
  {
   "cell_type": "code",
   "execution_count": 2,
   "metadata": {},
   "outputs": [],
   "source": [
    "COLOR = 'black'\n",
    "plt.style.use(\"default\")\n",
    "rcParams[\"font.family\"] = \"serif\"\n",
    "rcParams[\"mathtext.fontset\"] = \"cm\"\n",
    "rcParams['figure.figsize'] = (28, 18)\n",
    "rcParams['figure.titlesize'] = 20\n",
    "rcParams['figure.dpi'] = 50\n",
    "rcParams['axes.grid'] = True\n",
    "rcParams['axes.facecolor'] = 'lightgray'\n",
    "rcParams['legend.fontsize'] = 25\n",
    "rcParams['axes.titlesize'] = 60\n",
    "rcParams['axes.labelsize'] = 50\n",
    "rcParams['ytick.labelsize'] = 20\n",
    "rcParams['xtick.labelsize'] = 20\n",
    "rcParams['text.color'] = COLOR\n",
    "rcParams['text.color'] = COLOR\n",
    "rcParams['axes.labelcolor'] = COLOR\n",
    "rcParams['xtick.color'] = COLOR\n",
    "rcParams['ytick.color'] = COLOR\n",
    "rcParams['grid.color'] = COLOR\n",
    "rcParams['text.latex.preamble'] = \"\\n\".join([\n",
    "    r'\\usepackage[version=3]{mhchem}'\n",
    "])"
   ]
  },
  {
   "cell_type": "code",
   "execution_count": 3,
   "metadata": {},
   "outputs": [],
   "source": [
    "THRESHOLD = 120\n",
    "MAX_PIXEL_VALUE = 255"
   ]
  },
  {
   "cell_type": "markdown",
   "metadata": {},
   "source": [
    "### funciones"
   ]
  },
  {
   "cell_type": "code",
   "execution_count": 101,
   "metadata": {},
   "outputs": [],
   "source": [
    "def cortar(frame, limites, PRUEBA=False, nombre='CORTE'):\n",
    "    min_x, max_x, min_y, max_y = limites\n",
    "    corte = frame[min_y:max_y, min_x:max_x]\n",
    "    if PRUEBA:\n",
    "        cv.imwrite(f'Imaging tests\\\\{nombre}.jpg', corte)\n",
    "    return corte\n",
    "\n",
    "def gris(frame, PRUEBA=False, nombre='GRAYSCALE'):\n",
    "    im_gray = cv.cvtColor(frame, cv.COLOR_BGR2GRAY)\n",
    "    if PRUEBA:\n",
    "        cv.imwrite(f'Imaging tests\\\\{nombre}.jpg', im_gray)\n",
    "    return im_gray\n",
    "\n",
    "def binarize(frame, th=THRESHOLD, PRUEBA=False, nombre='BINARY'):\n",
    "    _, im_binary = cv.threshold(frame, th, MAX_PIXEL_VALUE, cv.THRESH_BINARY)\n",
    "    if PRUEBA:\n",
    "        cv.imwrite(f'Imaging tests\\\\{nombre}.jpg', im_binary)\n",
    "    return im_binary\n",
    "\n",
    "def guillotina(frame, PRUEBA=False, nombre='DECAPITADO'):\n",
    "    y, x = np.where(frame<=130)\n",
    "    frame[y, x] = np.mean(frame)\n",
    "    frame -= np.min(frame)\n",
    "    frame = (frame/np.max(frame))*255\n",
    "    blur = cv.GaussianBlur(frame,(5,5),0)\n",
    "    if PRUEBA:\n",
    "        cv.imwrite(f'Imaging tests\\\\{nombre}.jpg', blur)\n",
    "    return blur\n",
    "\n",
    "def binarize_TAIL(frame, PRUEBA=False, nombre='BINARY_TAIL'):\n",
    "    _, im_binary = cv.threshold(frame, THRESHOLD-20, MAX_PIXEL_VALUE, cv.THRESH_BINARY)\n",
    "    arr = im_binary > 0\n",
    "    im_binary = remove_small_holes(arr)*255\n",
    "    y, x = np.where(im_binary==0)\n",
    "    im_bin = im_binary[min(y)-1:max(y)+2, min(x)-1:max(x)+2]\n",
    "    im_bin = area_opening(im_bin, 200)\n",
    "    im_binary[min(y)-1:max(y)+2, min(x)-1:max(x)+2] = im_bin\n",
    "\n",
    "    if PRUEBA:\n",
    "        cv.imwrite(f'Imaging tests\\\\{nombre}.jpg', im_binary)\n",
    "    return im_binary\n",
    "\n",
    "def skeleton(frame, PRUEBA=False, nombre='ESQUELETO'):\n",
    "    arr = frame < 255\n",
    "    sk = skeletonize(arr)*255\n",
    "    y, x = np.where(sk!=0)\n",
    "    if PRUEBA:\n",
    "        cv.imwrite(f'Imaging tests\\\\{nombre}.jpg', sk)\n",
    "    return sk, x, y\n",
    "\n",
    "def track_TAIL(vs, limites, SHOW=False):\n",
    "        # Crea las listas vacias que van a ser nuestras mediciones\n",
    "        tail_x = np.array([])\n",
    "        tail_y = np.array([])        \n",
    "        frame_count = vs.get(7)\n",
    "        tiempo = [f for f in range(1, int(frame_count))]\n",
    "        while(vs.isOpened()):\n",
    "            ret, frame = vs.read()\n",
    "            if ret:\n",
    "                frame = cortar(frame, limites)\n",
    "                im_izq = frame[:, 0:1]\n",
    "                im_izq = cv.bitwise_not(binarize(gris(im_izq), th=170))\n",
    "                im_der = frame[:, -2:-1]\n",
    "                im_der = cv.bitwise_not(binarize(gris(im_der), th=170))\n",
    "                if np.sum(im_izq) == 0:\n",
    "                    if np.sum(im_der) == 0:\n",
    "                        frame_bn = binarize_TAIL(guillotina(gris(frame)))\n",
    "                        y, x = np.where(frame_bn==0)\n",
    "                        # _, x, y = skeleton(frame_bn)\n",
    "                        # tail_x = np.append(tail_x, x)\n",
    "                        # tail_y = np.append(tail_y, y)\n",
    "                        if SHOW:\n",
    "                            frame[y, x] = [0, 0, 255]\n",
    "                            cv.imshow('frame', frame)\n",
    "\n",
    "                        if cv.waitKey(1) & 0xFF == ord('q'):\n",
    "                            break\n",
    "                else:\n",
    "                    break\n",
    "            else:\n",
    "                print('Video no abierto')\n",
    "                break\n",
    "        cv.destroyAllWindows()\n",
    "        # video.release()\n",
    "                \n",
    "        return np.array(tiempo)"
   ]
  },
  {
   "cell_type": "code",
   "execution_count": 15,
   "metadata": {},
   "outputs": [],
   "source": [
    "# lim = [319, 950, 250, 505]\n",
    "lim = [319, 1000, 250, 505]\n"
   ]
  },
  {
   "cell_type": "code",
   "execution_count": 90,
   "metadata": {},
   "outputs": [
    {
     "data": {
      "text/plain": [
       "True"
      ]
     },
     "execution_count": 90,
     "metadata": {},
     "output_type": "execute_result"
    }
   ],
   "source": [
    "im = cv.imread('Capturas\\\\Camo Snapshot 2024-05-17 12-04-24 - 10Hz.jpg')\n",
    "# im = cortar(im, limites=lim)\n",
    "# im = im[:, -2:-1]\n",
    "# im = binarize(im, th=170, PRUEBA=True, nombre='algo')\n",
    "# # print(im)\n",
    "# im = cv.bitwise_not(im)\n",
    "# print(np.sum(im)==0)\n",
    "\n",
    "im_cut = cortar(im, limites=lim)\n",
    "im_gray = gris(im_cut)\n",
    "im_decap = guillotina(im_gray, PRUEBA=True)\n",
    "im_binary = binarize_TAIL(im_decap)\n",
    "\n",
    "# cv.imwrite(f'Imaging tests\\\\binario2.jpg', im_binary)\n",
    "\n",
    "y, x = np.where(im_binary==0)\n",
    "\n",
    "\n",
    "# esto aplica el area opening sólo a la zona cerca de la onda, que creo que es lo que lo ralentiza \n",
    "im_bin = im_binary[min(y)-1:max(y)+2, min(x)-1:max(x)+2]\n",
    "# im_bin = im_bin[min(y)-1:max(y)+2, :]\n",
    "im_bin = area_opening(im_bin, 200)\n",
    "\n",
    "cv.imwrite(f'Imaging tests\\\\CORTE_AO2.jpg', im_binary)\n",
    "\n",
    "# # im_sk, x, y = skeleton(im_bin, PRUEBA=True)\n",
    "\n",
    "# # corte_sk = im_sk[:, min(x):max(x)+1]\n",
    "# # corte_sk = corte_sk[min(y):max(y)+1, :]\n",
    "\n",
    "# # cv.imwrite(f'Imaging tests\\\\CORTE_SK.jpg', corte_sk)\n"
   ]
  },
  {
   "cell_type": "code",
   "execution_count": 104,
   "metadata": {},
   "outputs": [
    {
     "name": "stdout",
     "output_type": "stream",
     "text": [
      "True\n"
     ]
    }
   ],
   "source": [
    "video = cv.VideoCapture('ECO20-45mm-PECERA1\\\\ECO20-45mm-2,04Vpp-3Hz.mp4')\n",
    "print(video.isOpened())\n",
    "t = track_TAIL(video, lim, SHOW=True)\n",
    "\n",
    "# con el blur y el area opening a veces se pierde el final de alguna cola (500mVpp, 3Hz x ej)\n",
    "# jugar con el orden de los filtros capaz"
   ]
  },
  {
   "cell_type": "code",
   "execution_count": 100,
   "metadata": {},
   "outputs": [
    {
     "data": {
      "text/plain": [
       "True"
      ]
     },
     "execution_count": 100,
     "metadata": {},
     "output_type": "execute_result"
    }
   ],
   "source": [
    "cv.imwrite(f'Imaging tests\\\\IM_DER.jpg', t)"
   ]
  },
  {
   "cell_type": "code",
   "execution_count": 16,
   "metadata": {},
   "outputs": [
    {
     "ename": "ValueError",
     "evalue": "too many values to unpack (expected 3)",
     "output_type": "error",
     "traceback": [
      "\u001b[1;31m---------------------------------------------------------------------------\u001b[0m",
      "\u001b[1;31mValueError\u001b[0m                                Traceback (most recent call last)",
      "Cell \u001b[1;32mIn[16], line 8\u001b[0m\n\u001b[0;32m      6\u001b[0m     video \u001b[38;5;241m=\u001b[39m cv\u001b[38;5;241m.\u001b[39mVideoCapture(\u001b[38;5;124m'\u001b[39m\u001b[38;5;124mECO20-45mm-PECERA1/\u001b[39m\u001b[38;5;124m'\u001b[39m\u001b[38;5;241m+\u001b[39mfilename)\n\u001b[0;32m      7\u001b[0m     lim \u001b[38;5;241m=\u001b[39m [\u001b[38;5;241m319\u001b[39m, \u001b[38;5;241m950\u001b[39m, \u001b[38;5;241m250\u001b[39m, \u001b[38;5;241m505\u001b[39m] \u001b[38;5;66;03m#[xleft, xright, ytop, ydown]\u001b[39;00m\n\u001b[1;32m----> 8\u001b[0m     t,x,y \u001b[38;5;241m=\u001b[39m track_TAIL(video, lim, SHOW\u001b[38;5;241m=\u001b[39m\u001b[38;5;28;01mTrue\u001b[39;00m)\n\u001b[0;32m     10\u001b[0m     \u001b[38;5;66;03m# pd.DataFrame().assign(t=t[:len(x)]).assign(x=x).assign(y=y).to_csv(f'ECO20-45mm/{v}-{f}.csv')\u001b[39;00m\n\u001b[0;32m     11\u001b[0m \n\u001b[0;32m     12\u001b[0m \u001b[38;5;66;03m# for\u001b[39;00m\n\u001b[0;32m     13\u001b[0m \u001b[38;5;66;03m#     video = cv.VideoCapture('ECO20-45mm-PECERA1\\\\ECO20-45mm-2,50Vpp-3Hz.mp4')\u001b[39;00m\n\u001b[0;32m     14\u001b[0m \u001b[38;5;66;03m#     t = track_TAIL(video, lim, SHOW=True)\u001b[39;00m\n",
      "\u001b[1;31mValueError\u001b[0m: too many values to unpack (expected 3)"
     ]
    }
   ],
   "source": [
    "import os\n",
    "\n",
    "for filename in os.listdir('ECO20-45mm-PECERA1'):\n",
    "    spl = filename.split('.')[0].split('-')\n",
    "    v,f = spl[2],spl[3]\n",
    "    video = cv.VideoCapture('ECO20-45mm-PECERA1/'+filename)\n",
    "    lim = [319, 950, 250, 505] #[xleft, xright, ytop, ydown]\n",
    "    t,x,y = track_TAIL(video, lim, SHOW=True)\n",
    "\n",
    "    # pd.DataFrame().assign(t=t[:len(x)]).assign(x=x).assign(y=y).to_csv(f'ECO20-45mm/{v}-{f}.csv')\n",
    "\n",
    "# for\n",
    "    # video = cv.VideoCapture('ECO20-45mm-PECERA1\\\\ECO20-45mm-2,50Vpp-3Hz.mp4')\n",
    "    # t = track_TAIL(video, lim, SHOW=True)"
   ]
  }
 ],
 "metadata": {
  "kernelspec": {
   "display_name": "Labo6y7_env",
   "language": "python",
   "name": "python3"
  },
  "language_info": {
   "codemirror_mode": {
    "name": "ipython",
    "version": 3
   },
   "file_extension": ".py",
   "mimetype": "text/x-python",
   "name": "python",
   "nbconvert_exporter": "python",
   "pygments_lexer": "ipython3",
   "version": "3.12.1"
  }
 },
 "nbformat": 4,
 "nbformat_minor": 2
}
