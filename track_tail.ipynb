{
 "cells": [
  {
   "cell_type": "code",
   "execution_count": 1,
   "metadata": {},
   "outputs": [],
   "source": [
    "import numpy as np\n",
    "import matplotlib.pyplot as plt\n",
    "import cv2 as cv\n",
    "from skimage.morphology import remove_small_holes, area_opening, skeletonize\n",
    "import pandas as pd\n",
    "from matplotlib import rcParams"
   ]
  },
  {
   "cell_type": "code",
   "execution_count": 2,
   "metadata": {},
   "outputs": [],
   "source": [
    "COLOR = 'black'\n",
    "plt.style.use(\"default\")\n",
    "rcParams[\"font.family\"] = \"serif\"\n",
    "rcParams[\"mathtext.fontset\"] = \"cm\"\n",
    "rcParams['figure.figsize'] = (28, 18)\n",
    "rcParams['figure.titlesize'] = 20\n",
    "rcParams['figure.dpi'] = 50\n",
    "rcParams['axes.grid'] = True\n",
    "rcParams['axes.facecolor'] = 'lightgray'\n",
    "rcParams['legend.fontsize'] = 25\n",
    "rcParams['axes.titlesize'] = 60\n",
    "rcParams['axes.labelsize'] = 50\n",
    "rcParams['ytick.labelsize'] = 20\n",
    "rcParams['xtick.labelsize'] = 20\n",
    "rcParams['text.color'] = COLOR\n",
    "rcParams['text.color'] = COLOR\n",
    "rcParams['axes.labelcolor'] = COLOR\n",
    "rcParams['xtick.color'] = COLOR\n",
    "rcParams['ytick.color'] = COLOR\n",
    "rcParams['grid.color'] = COLOR\n",
    "rcParams['text.latex.preamble'] = \"\\n\".join([\n",
    "    r'\\usepackage[version=3]{mhchem}'\n",
    "])"
   ]
  },
  {
   "cell_type": "code",
   "execution_count": 3,
   "metadata": {},
   "outputs": [],
   "source": [
    "THRESHOLD = 120\n",
    "MAX_PIXEL_VALUE = 255"
   ]
  },
  {
   "cell_type": "markdown",
   "metadata": {},
   "source": [
    "### funciones"
   ]
  },
  {
   "cell_type": "code",
   "execution_count": 65,
   "metadata": {},
   "outputs": [],
   "source": [
    "def cortar(frame, limites, PRUEBA=False, nombre='CORTE'):\n",
    "    # lee en gris\n",
    "    min_x, max_x, min_y, max_y = limites\n",
    "    corte = frame[min_y:max_y, min_x:max_x] # resolver lo del corte binarizadp\n",
    "    if PRUEBA:\n",
    "        cv.imwrite(f'Imaging tests\\\\{nombre}.jpg', corte)\n",
    "    return corte\n",
    "\n",
    "def gris(frame, PRUEBA=False, nombre='GRAYSCALE'):\n",
    "    im_gray = cv.cvtColor(frame, cv.COLOR_BGR2GRAY)\n",
    "    if PRUEBA:\n",
    "        cv.imwrite(f'Imaging tests\\\\{nombre}.jpg', im_gray)\n",
    "    return im_gray\n",
    "\n",
    "def binarize(frame, th=THRESHOLD, PRUEBA=False, nombre='BINARY'):\n",
    "    # im_binary = cv.adaptiveThreshold(frame, 255, cv.ADAPTIVE_THRESH_GAUSSIAN_C, cv.THRESH_BINARY, 11, 2)\n",
    "    frame = gris(frame)\n",
    "    _, im_binary = cv.threshold(frame, th, MAX_PIXEL_VALUE, cv.THRESH_BINARY)\n",
    "    if PRUEBA:\n",
    "        cv.imwrite(f'Imaging tests\\\\{nombre}.jpg', im_binary)\n",
    "    return im_binary\n",
    "\n",
    "def guillotina(frame, PRUEBA=False, nombre='DECAPITADO'):\n",
    "    y, x = np.where(frame<=130)\n",
    "    frame[y, x] = np.max(frame)\n",
    "    frame -= np.min(frame)\n",
    "    frame = (frame/np.max(frame))*255\n",
    "    if PRUEBA:\n",
    "        cv.imwrite(f'Imaging tests\\\\{nombre}.jpg', frame)\n",
    "    return frame\n",
    "\n",
    "def binarize_TAIL(frame, PRUEBA=False, nombre='BINARY_TAIL'):\n",
    "    _, im_binary = cv.threshold(frame, THRESHOLD, MAX_PIXEL_VALUE, cv.THRESH_BINARY)\n",
    "    arr = im_binary > 0\n",
    "    im_binary = remove_small_holes(arr)*255\n",
    "    im_binary = area_opening(im_binary, 200)\n",
    "    if PRUEBA:\n",
    "        cv.imwrite(f'Imaging tests\\\\{nombre}.jpg', im_binary)\n",
    "    return im_binary\n",
    "\n",
    "def skeleton(frame, PRUEBA=False, nombre='ESQUELETO'):\n",
    "    arr = frame < 255\n",
    "    sk = skeletonize(arr)*255\n",
    "    y, x = np.where(sk!=0)\n",
    "    if PRUEBA:\n",
    "        cv.imwrite(f'Imaging tests\\\\{nombre}.jpg', sk)\n",
    "    return x, y\n",
    "\n",
    "def track_TAIL(vs, limites, SHOW=False):\n",
    "        # Crea las listas vacias que van a ser nuestras mediciones\n",
    "        frame_count = vs.get(7)\n",
    "        tiempo = [f for f in range(1, int(frame_count))]\n",
    "        while(vs.isOpened()):\n",
    "            ret, frame = vs.read()\n",
    "            if ret:\n",
    "                frame = cortar(frame, limites)\n",
    "                im = frame[:, -2:-1]\n",
    "                im = cv.bitwise_not(binarize(im, th=170))\n",
    "                if np.sum(im) == 0:\n",
    "                    frame_bn = binarize_TAIL(guillotina(gris(frame)))\n",
    "                    try:\n",
    "                        x, y = skeleton(frame_bn)\n",
    "                        frame[y, x] = [0, 0, 255]\n",
    "                        cv.imshow('frame', frame)\n",
    "                    except:\n",
    "                        break\n",
    "                    if cv.waitKey(1) & 0xFF == ord('q'):\n",
    "                        break\n",
    "                    elif\n",
    "            else:\n",
    "                break\n",
    "        cv.destroyAllWindows()\n",
    "        # video.release()\n",
    "                \n",
    "        return np.array(tiempo)"
   ]
  },
  {
   "cell_type": "code",
   "execution_count": 6,
   "metadata": {},
   "outputs": [],
   "source": [
    "lim = [319, 950, 250, 505]"
   ]
  },
  {
   "cell_type": "code",
   "execution_count": 64,
   "metadata": {},
   "outputs": [
    {
     "name": "stdout",
     "output_type": "stream",
     "text": [
      "True\n"
     ]
    }
   ],
   "source": [
    "im = cv.imread('Capturas\\\\Camo Snapshot 2024-05-17 12-04-24 - 10Hz.jpg')\n",
    "im = cortar(im, limites=lim)\n",
    "im = im[:, -2:-1]\n",
    "im = binarize(im, th=170, PRUEBA=True, nombre='algo')\n",
    "# print(im)\n",
    "im = cv.bitwise_not(im)\n",
    "print(np.sum(im)==0)\n",
    "im_gray = gris(im_cut)\n",
    "im_decap = guillotina(im_gray, PRUEBA=True)\n",
    "im_binary = binarize_TAIL(im_decap, PRUEBA=True)\n",
    "im_sk = skeleton(im_binary, PRUEBA=True)"
   ]
  },
  {
   "cell_type": "code",
   "execution_count": 14,
   "metadata": {},
   "outputs": [
    {
     "name": "stderr",
     "output_type": "stream",
     "text": [
      "<>:1: SyntaxWarning: invalid escape sequence '\\E'\n",
      "<>:1: SyntaxWarning: invalid escape sequence '\\E'\n",
      "C:\\Users\\pauli\\AppData\\Local\\Temp\\ipykernel_30088\\2234935015.py:1: SyntaxWarning: invalid escape sequence '\\E'\n",
      "  video = cv.VideoCapture('ECO20-45mm-PECERA1\\ECO20-45mm-2,04Vpp-3Hz.mp4')\n"
     ]
    }
   ],
   "source": [
    "video = cv.VideoCapture('ECO20-45mm-PECERA1\\ECO20-45mm-2,04Vpp-3Hz.mp4')\n",
    "t = track_TAIL(video, lim, SHOW=True)"
   ]
  }
 ],
 "metadata": {
  "kernelspec": {
   "display_name": "Labo6y7_env",
   "language": "python",
   "name": "python3"
  },
  "language_info": {
   "codemirror_mode": {
    "name": "ipython",
    "version": 3
   },
   "file_extension": ".py",
   "mimetype": "text/x-python",
   "name": "python",
   "nbconvert_exporter": "python",
   "pygments_lexer": "ipython3",
   "version": "3.12.1"
  }
 },
 "nbformat": 4,
 "nbformat_minor": 2
}
