{
 "cells": [
  {
   "cell_type": "code",
   "execution_count": 9,
   "metadata": {},
   "outputs": [],
   "source": [
    "import cv2\n",
    "import time"
   ]
  },
  {
   "cell_type": "code",
   "execution_count": 18,
   "metadata": {},
   "outputs": [],
   "source": [
    "nikon = cv2.VideoCapture(1)\n",
    "\n",
    "result, image = nikon.read()\n",
    "\n",
    "# If image will detected without any error,  \n",
    "# show result \n",
    "if result: \n",
    "    # showing result, it take frame name and image  \n",
    "    # output \n",
    "    cv2.imshow(\"foto\", image) \n",
    "  \n",
    "    # saving image in local storage \n",
    "    cv2.imwrite(\"Pruebas/camara.png\", image) \n",
    "  \n",
    "    # If keyboard interrupt occurs, destroy image  \n",
    "    # window \n",
    "    cv2.waitKey(0) # tocar cualquier tecla para cerrar la ventana\n",
    "    cv2.destroyWindow(\"foto\") \n",
    "    \n",
    "\n",
    "# If captured image is corrupted, moving to else part \n",
    "else: \n",
    "    print(\"No image detected. Please! try again\")\n",
    "nikon.release() "
   ]
  },
  {
   "cell_type": "code",
   "execution_count": 141,
   "metadata": {},
   "outputs": [],
   "source": [
    "# fotos cada cierto tiempo\n",
    "\n",
    "# tiene delay y se puede mejorar pero se puede sacar fotos en intervalo fijo cada cierto tiempo\n",
    "\n",
    "nikon = cv2.VideoCapture(1)\n",
    "t = 10 # tiempo (segundos)\n",
    "interv = 2 # intervalo temporal entre las fotos\n",
    "N = t//2 # cantidad de fotos que saca\n",
    "for n in range(0, N): \n",
    "    result, image = nikon.read()\n",
    "    if result: \n",
    "        cv2.imwrite('Pruebas/camara'+str(n)+'.png', image)  \n",
    "    else: \n",
    "        print(\"No image detected. Please! try again\")\n",
    "    time.sleep(interv)\n",
    "nikon.release() "
   ]
  },
  {
   "cell_type": "code",
   "execution_count": 24,
   "metadata": {},
   "outputs": [],
   "source": [
    "# control de cámara\n",
    "\n",
    "nikon = cv2.VideoCapture(1)\n",
    "\n",
    "if not nikon.isOpened():\n",
    "  print(\"Cannot open camera\")\n",
    "  exit()\n",
    "while True:\n",
    "  ret, frame = nikon.read()\n",
    "  if not ret:\n",
    "    print(\"Can't receive frame (stream end?). Exiting ...\")\n",
    "    break\n",
    "  cv2.imshow('frame', frame)\n",
    "  if cv2.waitKey(1) == ord('q'): # hay que tocar q para cerrar la ventana\n",
    "    break\n",
    " \n",
    "# When everything done, release the capture\n",
    "nikon.release()\n",
    "cv2.destroyAllWindows()"
   ]
  },
  {
   "cell_type": "code",
   "execution_count": 40,
   "metadata": {},
   "outputs": [
    {
     "name": "stdout",
     "output_type": "stream",
     "text": [
      "FPS :  59.94005994005994\n",
      "Frames:  462.0\n"
     ]
    }
   ],
   "source": [
    "# abro y analizo video\n",
    "video = cv2.VideoCapture('Pruebas/PHO_0328.MOV')\n",
    "\n",
    "if (video.isOpened() == False):\n",
    "  print(\"Error opening the video file\")\n",
    "else:\n",
    "  fps = video.get(5)\n",
    "  print('FPS : ', fps)\n",
    "  frame_count = video.get(7)\n",
    "  print('Frames: ', frame_count)\n",
    " \n",
    "while(video.isOpened()):\n",
    "  ret, frame = video.read()\n",
    "  if ret == True:\n",
    "    cv2.imshow('frame', frame)\n",
    "    if cv2.waitKey(10) == ord('q'): # hay que tocar q para cerrar la ventana\n",
    "      break\n",
    "  else:\n",
    "    break\n",
    " \n",
    "video.release()\n",
    "cv2.destroyAllWindows()"
   ]
  },
  {
   "cell_type": "code",
   "execution_count": 36,
   "metadata": {},
   "outputs": [],
   "source": [
    "# video\n",
    "\n",
    "nikon = cv2.VideoCapture(1)\n",
    "\n",
    "# esto es para guardar el video\n",
    "\n",
    "# Obtain frame size information using get() method\n",
    "frame_width = nikon.get(cv2.CAP_PROP_FRAME_WIDTH)\n",
    "frame_height = nikon.get(cv2.CAP_PROP_FRAME_HEIGHT)\n",
    "frame_size = (int(frame_width), int(frame_height))\n",
    "fps = 59.94005994005994\n",
    "fourcc = cv2.VideoWriter_fourcc(*\"mp4v\") # depende si linux o versión de windows hay que cambiar el codec\n",
    "\n",
    "# output_avi = cv2.VideoWriter('Pruebas/video_avi_20fps.avi', cv2.VideoWriter_fourcc('M','J','P','G'), fps, frame_size)\n",
    "output = cv2.VideoWriter('Pruebas/video.mp4', fourcc, fps, frame_size)\n",
    "\n",
    "if not nikon.isOpened():\n",
    "  print(\"Cannot open camera\")\n",
    "  exit()\n",
    "while True:\n",
    "  # Capture frame-by-frame\n",
    "  ret, frame = nikon.read()\n",
    " \n",
    "#  if frame is read correctly ret is True\n",
    "  if not ret:\n",
    "    print(\"Can't receive frame (stream end?). Exiting ...\")\n",
    "    break\n",
    "  \n",
    "  # esto es para guardar el video:\n",
    "\n",
    "  # Display the resulting frame\n",
    "  cv2.imshow('frame', frame)\n",
    "  if cv2.waitKey(1) == ord('q'): # hay que tocar q para cerrar la ventana\n",
    "    break\n",
    " \n",
    "# When everything done, release the capture\n",
    "nikon.release()\n",
    "output.release()\n",
    "cv2.destroyAllWindows()"
   ]
  }
 ],
 "metadata": {
  "kernelspec": {
   "display_name": ".venv",
   "language": "python",
   "name": "python3"
  },
  "language_info": {
   "codemirror_mode": {
    "name": "ipython",
    "version": 3
   },
   "file_extension": ".py",
   "mimetype": "text/x-python",
   "name": "python",
   "nbconvert_exporter": "python",
   "pygments_lexer": "ipython3",
   "version": "3.12.1"
  }
 },
 "nbformat": 4,
 "nbformat_minor": 2
}
