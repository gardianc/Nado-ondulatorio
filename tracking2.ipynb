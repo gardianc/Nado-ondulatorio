{
 "cells": [
  {
   "cell_type": "markdown",
   "metadata": {},
   "source": [
    "Para el segundo nadador que utilizamos cambiamos el criterio que usábamos para elegir el punto de referencia de la posición de la cabeza. Para conservar información sobre la amplitud de la oscilación en la cabeza tomamos como posición de la cabeza el extremo del _blob_ que identificamos como la cabeza que está alineado con el cuello del nadador (se ve más claramente en los ejemplos de procesamiento de un frame). \n",
    "\n",
    "Para esto necesitamos recuperar algunos datos intermedios (los frames de interés, el blob completo de la cabeza y la posición de su centro), que, aunque por sí mismos no aportan información nueva sobre el nado, conviene guardar oara acelerar el proceso de análisis de los videos.\n",
    "\n",
    "Al cambiar el filamento también cambia el código para recuperar la cola.\n",
    "\n",
    "IMPORTANTE: los videos tienen más particularidades que los que no llevan _checkerboard_, así que en muchos casos hay que elegir manualmente los parámetros adecuados para el análisis de cada uno. Registramos algunos que funcionaban para cada video y los dejamos comentados dentro de las funciones en _utilities.py_. Acá se ejemplifica para el caso de 4Vpp - 5Hz pero si buscamos ver otro video hay que cambiar los parámetros por los correctos comentando y descomentando las líneas correspondientes en cada función."
   ]
  },
  {
   "cell_type": "markdown",
   "metadata": {},
   "source": [
    "## Imports y rcParams"
   ]
  },
  {
   "cell_type": "code",
   "execution_count": 1,
   "metadata": {},
   "outputs": [],
   "source": [
    "import numpy as np\n",
    "import matplotlib.pyplot as plt\n",
    "import cv2 as cv\n",
    "from matplotlib import rcParams\n",
    "from natsort import natsorted\n",
    "import os\n",
    "import pandas as pd\n",
    "import DSE_prune\n",
    "import utilities as ut\n",
    "\n",
    "from skimage.morphology import binary_dilation, remove_small_holes, medial_axis\n",
    "from skimage.filters import gaussian\n",
    "from skimage.measure import label, regionprops, regionprops_table\n",
    "from skimage.exposure import equalize_adapthist, equalize_hist, rescale_intensity \n",
    "from skimage.draw import line\n",
    "\n",
    "from scipy.optimize import curve_fit\n",
    "f_lineal = lambda x,a,b: a*x + b\n",
    "\n",
    "\n",
    "\n",
    "THRESHOLD = 100\n",
    "MAX_PIXEL_VALUE = 255\n",
    "\n",
    "plt.style.use(\"default\")\n",
    "rcParams[\"font.family\"] = \"serif\"\n",
    "rcParams[\"mathtext.fontset\"] = \"cm\"\n",
    "rcParams['figure.figsize'] = (20, 15)\n",
    "rcParams['figure.titlesize'] = 20\n",
    "rcParams['figure.dpi'] = 50\n",
    "# rcParams['axes.grid'] = True\n",
    "rcParams['axes.facecolor'] = 'lightgray'\n",
    "rcParams['legend.fontsize'] = 25\n",
    "rcParams['axes.titlesize'] = 60\n",
    "rcParams['axes.labelsize'] = 50\n",
    "rcParams['ytick.labelsize'] = 20\n",
    "rcParams['xtick.labelsize'] = 20\n",
    "\n",
    "rcParams['text.latex.preamble'] = \"\\n\".join([\n",
    "    r'\\usepackage[version=3]{mhchem}'\n",
    "])"
   ]
  },
  {
   "cell_type": "markdown",
   "metadata": {},
   "source": [
    "## Funciones"
   ]
  },
  {
   "cell_type": "code",
   "execution_count": 8,
   "metadata": {},
   "outputs": [],
   "source": [
    "def BlobTracker(vs, limites, SHOW=False):\n",
    "        # obtiene el blob (array) de la cabeza y su centro en cada frame\n",
    "\n",
    "        pos_x_centroid = []\n",
    "        pos_y_centroid = []\n",
    "        blobs = []\n",
    "        \n",
    "        frame_count = vs.get(7)\n",
    "        tiempo = [f for f in range(1, int(frame_count))]\n",
    "        i=-1\n",
    "        frames = []\n",
    "        while(vs.isOpened()):\n",
    "            ret, frame = vs.read()\n",
    "            if ret:\n",
    "                i+=1\n",
    "                # procesado previo con el objetivo de filtrar la cola y la mayor cantidad de cuadrados posibles del fondo \n",
    "                frame = ut.cortar(frame, limites)\n",
    "                frame_gray = ut.gris(frame)\n",
    "                frame_gaussian = gaussian(frame_gray, 4)\n",
    "                \n",
    "                # threshold para 4V-5Hz\n",
    "                frame_binary = 255 - ut.binarize_gray(frame_gaussian, threshold=0.47)\n",
    "\n",
    "                # threshold para todos los videos con nadador DSK-60 menos 4V-5Hz:\n",
    "                # frame_binary = 255 - ut.binarize_gray(frame_gaussian, threshold=0.45)\n",
    "\n",
    "                # identificamos todos los objetos en la imagen binarizada\n",
    "                labeled_image, _ = label(1-frame_binary, connectivity=1, return_num=True)\n",
    "                \n",
    "                # elegimos el de mayor área en píxeles\n",
    "                object_features = regionprops(labeled_image)\n",
    "                object_areas = [objf[\"area\"] for objf in object_features]\n",
    "                object_centroid = [objf[\"centroid\"] for objf in object_features]\n",
    "                n = [object_areas.index(x) for x in sorted(object_areas, reverse=True)[:2]][1]\n",
    "                \n",
    "                # creamos una máscara para conservar sólo el objeto de mayor área\n",
    "                mask = np.zeros_like(labeled_image)\n",
    "                mask += (labeled_image==n+1).astype(int)\n",
    "                area  =  255 * mask\n",
    "                \n",
    "                # obtenemos el centro de ese objeto\n",
    "                y_centroid, x_centroid = object_centroid[n]\n",
    "\n",
    "                # analizamos sólo los frames donde \n",
    "                # 1) el objeto de mayor área supera un mínimo de área que nos asegure que \n",
    "                # estamos detectando la cabeza y no un cuadrado del fondo o la cola. Esto descarta \n",
    "                # los frames cuando el nadador todavía está fuera del encuadre.   \n",
    "                # 2) no se detecte ningún objeto en el extremo izq. Esto descarta los frames cuando \n",
    "                # el nadador sale de  encuadre.\n",
    "                im_izq = area[:, 0:1]\n",
    "                sum_izq = np.sum(im_izq)\n",
    "\n",
    "                if object_areas[n] > 200 and sum_izq == 0:\n",
    "                    frames.append(i)\n",
    "                    y, x = np.where(area!=0)\n",
    "                    pos_x_centroid.append(x_centroid)\n",
    "                    pos_y_centroid.append(y_centroid)\n",
    "\n",
    "                    blob_mask = np.zeros_like(frame_gray)\n",
    "                    blob_mask[y, x] = 1\n",
    "                    blobs.append(blob_mask)\n",
    "\n",
    "                    if SHOW:\n",
    "                        frame[y, x] = [0, 255, 0]\n",
    "                        frame = cv.circle(frame, (int(x_centroid), int(y_centroid)), radius=1, color=(0, 0, 0), thickness=-1)\n",
    "                        cv.imshow('frame', frame)\n",
    "                    if cv.waitKey(1) & 0xFF == ord('q'):\n",
    "                        break\n",
    "                else:\n",
    "                    continue\n",
    "\n",
    "                if cv.waitKey(1) & 0xFF == ord('q'):\n",
    "                        break\n",
    "            else:\n",
    "                break\n",
    "        cv.destroyAllWindows()\n",
    "        vs.release()\n",
    "        # es importante conservar los frames para poder relacionar trayectoria con deformación superficial\n",
    "        return np.array(tiempo), np.array(pos_x_centroid), np.array(pos_y_centroid), frames, np.array(blobs)  \n",
    "\n",
    "def Tracker(vs, limites, blob, x_centroid, y_centroid, frames, SHOW=True):\n",
    "    # devuelve la posición de la cabeza y la forma de la cola\n",
    "    start, end = frames[0], frames[-1]   \n",
    "    pos_x = []\n",
    "    pos_y = []\n",
    "    frames = []\n",
    "    pos_sk = []\n",
    "    pos_dist = []\n",
    "\n",
    "    i = -1\n",
    "    while(vs.isOpened()):\n",
    "        # print('f')\n",
    "        ret, frame = vs.read()\n",
    "        if ret:\n",
    "            i+=1\n",
    "\n",
    "            # analizamos sólo los frames donde el nadador está en la región de observación\n",
    "            # guardar este dato antes acelera mucho el análisis. \n",
    "            if i >= start and i <= end:\n",
    "                frame = ut.cortar(frame, limites)\n",
    "                frame_gray = ut.gris(frame)\n",
    "\n",
    "                # enmascaramos la cabeza\n",
    "                head = np.where(binary_dilation(binary_dilation(blob[i-start]))!=0)\n",
    "                frame_gray[head] = np.mean(frame_gray)\n",
    "\n",
    "                # parámetros de binarización para 4V-5Hz:\n",
    "                if i < start + (end-start)*3//4:\n",
    "                    _, frame_binary = cv.threshold(frame_gray, 120, MAX_PIXEL_VALUE, cv.THRESH_BINARY)\n",
    "                else:\n",
    "                    _, frame_binary = cv.threshold(frame_gray, 125, MAX_PIXEL_VALUE, cv.THRESH_BINARY)\n",
    "                \n",
    "                '''\n",
    "                # otros parámetros de binarización:\n",
    "                \n",
    "                # para todos menos 1V-10Hz, 1V-15Hz, 2V15Hz funca:\n",
    "                _, frame_binary = cv.threshold(frame_gray, 120, MAX_PIXEL_VALUE, cv.THRESH_BINARY)\n",
    "\n",
    "                # para todos menos 1V-10Hz, 1V-15Hz, 2V15Hz funca:\n",
    "                _, frame_binary = cv.threshold(frame_gray, 120, MAX_PIXEL_VALUE, cv.THRESH_BINARY)\n",
    "\n",
    "\n",
    "                # para 1V-10Hz:\n",
    "                if i < start + (end-start)*3//5:\n",
    "                    frame_gaussian = gaussian(frame_gray, 2)*255\n",
    "                    _, frame_binary = cv.threshold(frame_gaussian, 120, MAX_PIXEL_VALUE, cv.THRESH_BINARY)\n",
    "                elif i >= start + (end-start)*4//5:\n",
    "                    frame_gaussian = gaussian(frame_gray, 2)*255\n",
    "                    _, frame_binary = cv.threshold(frame_gaussian, 140, MAX_PIXEL_VALUE, cv.THRESH_BINARY)\n",
    "                else:\n",
    "                    frame_gaussian = gaussian(frame_gray, 2)*255\n",
    "                    _, frame_binary = cv.threshold(frame_gaussian, 130, MAX_PIXEL_VALUE, cv.THRESH_BINARY)\n",
    " \n",
    "                # para 1V-15Hz:\n",
    "                if i < start + (end-start)*3//5:\n",
    "                    frame_gaussian = gaussian(frame_gray, 2)*255\n",
    "                    _, frame_binary = cv.threshold(frame_gaussian, 122, MAX_PIXEL_VALUE, cv.THRESH_BINARY)\n",
    "                elif i >= start + (end-start)*4//5:\n",
    "                    frame_gaussian = gaussian(frame_gray, 2)*255\n",
    "                    _, frame_binary = cv.threshold(frame_gaussian, 140, MAX_PIXEL_VALUE, cv.THRESH_BINARY)\n",
    "                else:\n",
    "                    frame_gaussian = gaussian(frame_gray, 2)*255\n",
    "                    _, frame_binary = cv.threshold(frame_gaussian, 125, MAX_PIXEL_VALUE, cv.THRESH_BINARY)\n",
    "\n",
    "                # para 2V-10Hz:\n",
    "                if i < start + (end-start)*2//4:\n",
    "                    frame_gaussian = gaussian(frame_gray, 1)*255\n",
    "                    _, frame_binary = cv.threshold(frame_gaussian, 125, MAX_PIXEL_VALUE, cv.THRESH_BINARY)\n",
    "                elif i >= start + (end-start)*3//4:\n",
    "                    frame_gaussian = gaussian(frame_gray, 2)*255\n",
    "                    _, frame_binary = cv.threshold(frame_gaussian, 140, MAX_PIXEL_VALUE, cv.THRESH_BINARY)\n",
    "                else:\n",
    "                    frame_gaussian = gaussian(frame_gray, 3)*255\n",
    "                    _, frame_binary = cv.threshold(frame_gray, 120, MAX_PIXEL_VALUE, cv.THRESH_BINARY)     \n",
    "                '''\n",
    "                # separamos el objeto de mayor área (habiendo descartado la cabeza, si \n",
    "                # preprocesamos bien el frame debería ser la cola)\n",
    "                \n",
    "                labeled_image = label(1-frame_binary, connectivity=1)\n",
    "                object_features = regionprops(labeled_image)\n",
    "                object_areas = [objf[\"area\"] for objf in object_features]\n",
    "                n = [object_areas.index(x) for x in sorted(object_areas, reverse=True)[:2]][1]\n",
    "                mask = np.zeros_like(labeled_image)\n",
    "                mask += (labeled_image==n+1).astype(int)\n",
    "                area  =  mask\n",
    "\n",
    "                im_der = area[:, -2:-1]\n",
    "                sum_der = np.sum(im_der)\n",
    "\n",
    "                # miramos frames donde la porción de cola detectada (el cuello del nadador) tiene\n",
    "                # más de un área mínima.\n",
    "                if object_areas[n]>400:\n",
    "                    frames.append(i)\n",
    "                    i_c = i - start\n",
    "\n",
    "                    # sacamos el esqueleto del cuerpo\n",
    "                    ref_sk, dist = medial_axis(mask, return_distance=True)\n",
    "                    tail = np.where(area!=0)                \n",
    "                    \n",
    "                    y_sk, x_sk = np.where(ref_sk!=0)\n",
    "\n",
    "                    if sum_der == 0:\n",
    "                        start_sk = i\n",
    "                        pos_sk.append(ref_sk)\n",
    "                        pos_dist.append(dist)\n",
    "                    \n",
    "                    # coordenadas del centro de la cabeza en la imagen\n",
    "                    x_c, y_c = int(x_centroid[i_c]), int(y_centroid[i_c])\n",
    "\n",
    "                    # coordenadas de la unión del filamento con la cabeza \n",
    "                    x_neck, y_neck = np.min(x_sk), y_sk[np.where(x_sk == np.min(x_sk))[0][0]]\n",
    "\n",
    "                    x_line = x_c + 2*(x_c-x_neck)\n",
    "                    y_line = y_c + 2*(y_c-y_neck)\n",
    "                    rr, cc = line(x_c, y_c, x_line, y_line)\n",
    "\n",
    "                    # posición de la cabeza \n",
    "                    y_head, x_head = cc[np.where(blob[i-start][cc, rr]==0)[0][0]], rr[np.where(blob[i-start][cc, rr]==0)[0][0]]\n",
    "\n",
    "                    pos_x.append(x_head)\n",
    "                    pos_y.append(y_head)\n",
    "\n",
    "                    if SHOW:\n",
    "                        # cabeza\n",
    "                        frame[np.where(blob[i-start]!=0)] = [0, 255, 0]\n",
    "                        # cola\n",
    "                        frame[tail] = [0, 255, 255]\n",
    "                        # esqueleto\n",
    "                        frame[y_sk, x_sk] = [0,0,0]\n",
    "                        # eje\n",
    "                        frame[cc, rr] = [255, 0, 0]\n",
    "                        # centro\n",
    "                        frame = cv.circle(frame, (x_c, y_c), radius=1, color=(0, 0, 0), thickness=5)\n",
    "                        # cuello\n",
    "                        frame = cv.circle(frame, (x_neck, y_neck), radius=1, color=(255, 0, 255), thickness=5)\n",
    "                        # fin del eje\n",
    "                        frame = cv.circle(frame, (x_line, y_line), radius=1, color=(255, 0, 0), thickness=5)\n",
    "                        # pos de la cabeza\n",
    "                        frame = cv.circle(frame, (x_head, y_head), radius=1, color=(0, 0, 255), thickness=5)\n",
    "                        cv.imshow('frame', frame)\n",
    "\n",
    "                if cv.waitKey(1) & 0xFF == ord('q'):\n",
    "                    break\n",
    "                \n",
    "        else:\n",
    "            break\n",
    "    cv.destroyAllWindows()\n",
    "    vs.release()\n",
    "    return pos_x, pos_y, frames, np.array(pos_sk), np.array(pos_dist), start_sk\n",
    "\n"
   ]
  },
  {
   "cell_type": "markdown",
   "metadata": {},
   "source": [
    "## Aplicación: "
   ]
  },
  {
   "cell_type": "markdown",
   "metadata": {},
   "source": [
    "Usamos de ejemplo el video para 4 Vpp y 5 Hz."
   ]
  },
  {
   "cell_type": "code",
   "execution_count": 3,
   "metadata": {},
   "outputs": [],
   "source": [
    "FILENAME='4V-5Hz'\n",
    "vs = cv.VideoCapture(f'examples\\\\example_media\\\\P1-{FILENAME}-60mm.mp4')\n",
    "lim = [0, 1280, 110, 600]\n",
    "t, x_centroid, y_centroid, f, blobs = BlobTracker(vs, lim, SHOW=True)\n",
    "\n",
    "# guardamos los datos:\n",
    "\n",
    "pd.DataFrame().assign(t=t[:len(x_centroid)]).assign(x_centroid=x_centroid).assign(y_centroid=y_centroid).assign(frame=f).to_csv(f'examples\\\\example_media\\\\{FILENAME}-centroid.csv')\n",
    "np.savez(f'examples\\\\example_media\\\\{FILENAME}-blob', arr = blobs)\n",
    "\n",
    "pd.DataFrame().assign(t=t[:len(x_centroid)]).assign(x_centroid=x_centroid).assign(y_centroid=y_centroid).assign(frame=f).to_csv(f'datos\\\\60mm\\\\centroid\\\\{FILENAME}-c.csv')\n",
    "np.savez(f'datos\\\\60mm\\\\blobs\\\\{FILENAME}-b', arr = blobs)"
   ]
  },
  {
   "cell_type": "markdown",
   "metadata": {},
   "source": [
    "Para agilizar el análisis conviene guardar los datos de la cabeza y la posición del centro de la misma en CSV cuando se los detecta adecuadamente, de modo que si se modifica la función _trayectoria()_, que da la posición definitiva de la cabeza, no sea necesario volver a generar los datos intermedios de _blobs_ y _centroid_. Esta función requiere sí o sí que se le ajusten los parámetros manualmente para poder aplicarla en cada video. \n",
    "\n",
    "Conviene generar estos archivos para todos los videos como primera instancia y después leer esos datos para meterlos en _trayectoria()_. En el Drive están los archivos de _blob_ y _centroid_ que guardamos para cada video estudiado. Usamos acá los de 4 Vpp 5 Hz."
   ]
  },
  {
   "cell_type": "code",
   "execution_count": 4,
   "metadata": {},
   "outputs": [],
   "source": [
    "# cargamos los datos de la cabeza y el centroid\n",
    "df = pd.read_csv(f'examples\\\\example_media\\\\{FILENAME}-centroid.csv')\n",
    "t, x_centroid, y_centroid, f = df['t'], np.array(df['x_centroid']), np.array(df['y_centroid']), np.array(df['frame'])\n",
    "blobs = np.array(np.load(f'examples\\\\example_media\\\\{FILENAME}-blob.npz', allow_pickle=True)['arr'])"
   ]
  },
  {
   "cell_type": "markdown",
   "metadata": {},
   "source": [
    "Por irregularidades en la iluminación del fondo en la mayoría de los casos hay que elegir thresholds distintos en diferentes regiones de la imagen por la diferencia en las ondas que generan con distinta activación (y por lo tanto en la deformación del patrón del fondo) hay que variar los thresholds (y hasta método de binarización) para eliminar la mayor cantidad de cuadrados del fondo posibles manteniendo una buena detección (una buena deteccción consiste en recuperar el esqueleto sin demasiadas ramas y con su extremo fijo a la cabeza) del filamento en la zona del cuello del nadador. \n"
   ]
  },
  {
   "cell_type": "code",
   "execution_count": null,
   "metadata": {},
   "outputs": [],
   "source": [
    "vs = cv.VideoCapture(f'examples\\\\example_media\\\\P1-{FILENAME}-60mm.mp4')\n",
    "x_head, y_head, frames, pos_sk, pos_dist, start_sk= Tracker(vs, lim, blobs, x_centroid, y_centroid, f, SHOW=True)\n",
    "\n",
    "# guardamos los datos:\n",
    "# pd.DataFrame().assign(t=t[:len(x_head)]).assign(x=x_head).assign(y=y_head).assign(frame=frames).to_csv(f'datos\\\\60mm\\\\new\\\\{FILENAME}-new.csv')\n",
    "# np.savez(f'examples\\\\example_media\\\\{FILENAME}-sk', arr = pos_sk)\n",
    "# np.savez(f'examples\\\\example_media\\\\{FILENAME}-dist', arr = pos_dist)"
   ]
  },
  {
   "cell_type": "code",
   "execution_count": 7,
   "metadata": {},
   "outputs": [
    {
     "name": "stdout",
     "output_type": "stream",
     "text": [
      "frame a partir del cual empiezo a guardar la forma de la cola: 261\n"
     ]
    }
   ],
   "source": [
    "skel = np.array(np.load(f'examples\\\\example_media\\\\{FILENAME}-sk.npz', allow_pickle=True)['arr'])\n",
    "dist = np.array(np.load(f'examples\\\\example_media\\\\{FILENAME}-dist.npz', allow_pickle=True)['arr'])\n",
    "print(f'frame a partir del cual empiezo a guardar la forma de la cola: {start_sk}')"
   ]
  },
  {
   "cell_type": "markdown",
   "metadata": {},
   "source": [
    "Sólo tenemos analizado el caso 4V - 5Hz mirando la forma de la cola. Se pueden eliminar las ramas posteriormente con el algoritmo de _pruning_, para tener datos más suaves y hacer análisis similares a los que obtuvimos para el primer nadador. Es preciso pero muy lento, por eso se guardó sin procesar. "
   ]
  },
  {
   "cell_type": "code",
   "execution_count": 18,
   "metadata": {},
   "outputs": [
    {
     "data": {
      "text/plain": [
       "<matplotlib.image.AxesImage at 0x1c10658ab70>"
      ]
     },
     "execution_count": 18,
     "metadata": {},
     "output_type": "execute_result"
    },
    {
     "data": {
      "image/png": "[encoded data removed]",
      "text/plain": [
       "<Figure size 1000x750 with 1 Axes>"
      ]
     },
     "metadata": {},
     "output_type": "display_data"
    },
    {
     "data": {
      "image/png": "[encoded data removed]",
      "text/plain": [
       "<Figure size 1000x750 with 1 Axes>"
      ]
     },
     "metadata": {},
     "output_type": "display_data"
    }
   ],
   "source": [
    "plt.figure()\n",
    "plt.imshow(skel[2])\n",
    "dse = DSE_prune.skel_pruning_DSE(skel[2], dist[2], 100)\n",
    "plt.figure()\n",
    "plt.imshow(dse)"
   ]
  },
  {
   "cell_type": "code",
   "execution_count": null,
   "metadata": {},
   "outputs": [
    {
     "name": "stdout",
     "output_type": "stream",
     "text": [
      "guardado: P1-1V-10Hz-60mm.mp4\n",
      "siguiente\n",
      "No se pudo, archivo: P1-1V-15Hz-60mm.mp4\n",
      "siguiente\n",
      "No se pudo, archivo: P1-1V-5Hz-60mm.mp4\n",
      "siguiente\n"
     ]
    }
   ],
   "source": [
    "# código para guardar blob y centroid de forma automática en casos que no son 4V-5Hz. \n",
    "# hay que cambiar el threshold en la función BlobTracker.\n",
    "\n",
    "\n",
    "already_processed = [data.replace('.csv','') for data in os.listdir('datos\\\\60mm\\\\centroid\\\\')]\n",
    "# print(already_processed)\n",
    "\n",
    "for filename in os.listdir('videos\\\\FCD\\\\P1\\\\telgopor\\\\'):\n",
    "    video = cv.VideoCapture('videos\\\\FCD\\\\P1\\\\telgopor\\\\'+filename)\n",
    "    lim = [0, 1280, 110, 600] #[xleft, xright, ytop, ydown]\n",
    "    spl = filename[:-4].split('-')\n",
    "    v,f = spl[1],spl[2]\n",
    "    if f'{v}-{f}-c' not in already_processed:\n",
    "        try:\n",
    "            t,x_c,y_c,frame,blob = BlobTracker(video, lim, SHOW=False)\n",
    "            # Guardo los datos\n",
    "            if x_c.size>0 and y_c.size>0:\n",
    "                pd.DataFrame().assign(t=t[:len(x_c)]).assign(x_centroid=x_c).assign(y_centroid=y_c).assign(frame=frame).to_csv(f'datos\\\\60mm\\\\centroid\\\\{v}-{f}-c.csv')\n",
    "                np.savez(f'datos\\\\60mm\\\\blobs\\\\{FILENAME}-b', arr = blobs)\n",
    "                print(f'guardado: {filename}')\n",
    "            else:\n",
    "                print(\"No data \", filename)\n",
    "        except:\n",
    "            print(f'No se pudo, archivo: {filename}')\n",
    "    print('siguiente')"
   ]
  },
  {
   "cell_type": "markdown",
   "metadata": {},
   "source": [
    "Una vez que ya tenemos cada CSV de la posición de la cabeza obtenemos y guardamos la velocidad terminal para cada caso "
   ]
  },
  {
   "cell_type": "code",
   "execution_count": 10,
   "metadata": {},
   "outputs": [],
   "source": [
    "#We prepare a dataframe of all our filenames and a dataframe of all our csv's\n",
    "#sobre la carpeta con todos los csv de pos de cabeza\n",
    "csv_names = natsorted([filepath for filepath in os.listdir('datos\\\\60mm\\\\new') if '.csv' in filepath])\n",
    "filenamelist = pd.DataFrame().assign(name = csv_names)\n",
    "df = [pd.read_csv(f'datos\\\\60mm\\\\new\\\\{f}') for f in filenamelist['name']]"
   ]
  },
  {
   "cell_type": "code",
   "execution_count": 11,
   "metadata": {},
   "outputs": [
    {
     "name": "stdout",
     "output_type": "stream",
     "text": [
      "0     1V-5Hz-new.csv\n",
      "1    1V-10Hz-new.csv\n",
      "2    1V-15Hz-new.csv\n",
      "3     2V-5Hz-new.csv\n",
      "4    2V-10Hz-new.csv\n",
      "5     3V-5Hz-new.csv\n",
      "6    3V-10Hz-new.csv\n",
      "7     4V-5Hz-new.csv\n",
      "Name: name, dtype: object\n"
     ]
    }
   ],
   "source": [
    "df_namelist = filenamelist[filenamelist['name'].str.contains('V')] #We get the filenames corresponding to the frequency chosen\n",
    "filtered_namelist = df_namelist['name'] #We get the names of those files\n",
    "print(filtered_namelist)"
   ]
  },
  {
   "cell_type": "code",
   "execution_count": 23,
   "metadata": {},
   "outputs": [
    {
     "name": "stdout",
     "output_type": "stream",
     "text": [
      "leyendo: 1V-5Hz-new.csv\n",
      "leyendo: 1V-10Hz-new.csv\n",
      "leyendo: 1V-15Hz-new.csv\n",
      "leyendo: 2V-5Hz-new.csv\n",
      "leyendo: 2V-10Hz-new.csv\n",
      "leyendo: 3V-5Hz-new.csv\n",
      "leyendo: 3V-10Hz-new.csv\n",
      "leyendo: 4V-5Hz-new.csv\n"
     ]
    }
   ],
   "source": [
    "volt_list = []\n",
    "frec_list = []\n",
    "vel_list = []\n",
    "vel_err_list = []\n",
    "start_frame = []\n",
    "end_frame = []\n",
    "\n",
    "for i, filename in enumerate(filtered_namelist):\n",
    "    print(f'leyendo: {filename}')\n",
    "    \n",
    "    df_txy = df[i] #We retrieve the dataframe corresponding to our current filename\n",
    "    #We retrieve the metadata of our measurements from the filename\n",
    "\n",
    "    s = filename.split('.')[0].split('-')\n",
    "    v,f = s[0],s[1]\n",
    "    vval = (float(v.split('V')[0].replace(',','.')))\n",
    "    fval = float(f.split('Hz')[0].replace(',','.'))\n",
    "    volt_list.append(vval)\n",
    "    frec_list.append(fval)\n",
    "\n",
    "    # #We retrieve the data from our dataframe\n",
    "    t,x,frame = np.array(df_txy['t']), np.array(df_txy['x']), np.array(df_txy['frame'])#, np.array(df_txy['y_centroid'])\n",
    "    frame = frame - 1\n",
    "    start_frame.append(frame[0])\n",
    "    end_frame.append(frame[-1])\n",
    "\n",
    "    popt, popv = curve_fit(f_lineal, t, x)\n",
    "    a, b = popt\n",
    "    err_popt = np.sqrt(np.diag(popv))\n",
    "    a_err, b_err = err_popt\n",
    "    vel_list.append(a)\n",
    "    vel_err_list.append(a_err)\n",
    "\n",
    "# guardamos los datos:\n",
    "# pd.DataFrame().assign(frec=frec_list).assign(volt=volt_list).assign(vel=vel_list).assign(vel_err=vel_err_list).assign(start_frame=start_frame).assign(end_frame=end_frame).to_csv(f'datos\\\\60mm\\\\new\\\\velocidades-new.csv')\n"
   ]
  }
 ],
 "metadata": {
  "kernelspec": {
   "display_name": "Labo6y7_env",
   "language": "python",
   "name": "python3"
  },
  "language_info": {
   "codemirror_mode": {
    "name": "ipython",
    "version": 3
   },
   "file_extension": ".py",
   "mimetype": "text/x-python",
   "name": "python",
   "nbconvert_exporter": "python",
   "pygments_lexer": "ipython3",
   "version": "3.12.1"
  }
 },
 "nbformat": 4,
 "nbformat_minor": 2
}
